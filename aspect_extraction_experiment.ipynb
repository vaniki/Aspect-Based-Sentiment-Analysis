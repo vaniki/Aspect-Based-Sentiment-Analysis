{
 "cells": [
  {
   "cell_type": "code",
   "execution_count": 19,
   "metadata": {},
   "outputs": [],
   "source": [
    "import pandas as pd\n",
    "import numpy as np\n",
    "from sklearn.model_selection import train_test_split\n",
    "from sklearn.preprocessing import MultiLabelBinarizer\n",
    "from sklearn.metrics import accuracy_score, f1_score\n",
    "from sacred import Experiment\n",
    "from sacred.observers import MongoObserver\n",
    "from sklearn.pipeline import Pipeline\n",
    "from sklearn.feature_extraction.text import HashingVectorizer, CountVectorizer, TfidfVectorizer\n",
    "from nltk.corpus import stopwords\n",
    "from nltk.tokenize import word_tokenize\n",
    "from lda import lda\n",
    "from sklearn.multiclass import OneVsRestClassifier\n",
    "from sklearn.svm import LinearSVC\n",
    "from sklearn.neural_network import MLPClassifier\n",
    "from sklearn.ensemble import RandomForestClassifier\n",
    "from sklearn.compose import ColumnTransformer\n",
    "import string"
   ]
  },
  {
   "cell_type": "code",
   "execution_count": 2,
   "metadata": {},
   "outputs": [],
   "source": [
    "X_train = pd.read_csv(\"datasets/restaurants/train_task1.csv\",converters={'TargetWordList':eval,'OpinionCategoryList':eval,'OpinionSubcategoryList':eval,'OpinionPolarityList':eval})\n",
    "X_test = pd.read_csv(\"datasets/restaurants/gold_1.csv\",converters={'TargetWordList':eval,'OpinionCategoryList':eval,'OpinionSubcategoryList':eval,'OpinionPolarityList':eval})"
   ]
  },
  {
   "cell_type": "code",
   "execution_count": 3,
   "metadata": {},
   "outputs": [],
   "source": [
    "## Remove sentences with no opinion\n",
    "X_train = X_train[X_train.OpinionCategoryList.map(lambda x: len(x))!=0]\n",
    "X_test = X_test[X_test.OpinionCategoryList.map(lambda x: len(x))!=0]"
   ]
  },
  {
   "cell_type": "code",
   "execution_count": 4,
   "metadata": {},
   "outputs": [],
   "source": [
    "unique_categories= ['RESTAURANT', 'LOCATION', 'AMBIENCE', 'SERVICE', 'FOOD' ,'DRINKS']"
   ]
  },
  {
   "cell_type": "code",
   "execution_count": 5,
   "metadata": {},
   "outputs": [],
   "source": [
    "## Create aspect sentiment list based on the first occurence of the aspect and the corresponding sentiment\n",
    "for c in unique_categories:\n",
    "    X_train[c+\"_Sentiment\"] = X_train.apply(lambda x:-1 if c not in x['OpinionCategoryList'] else x['OpinionPolarityList'][x['OpinionCategoryList'].index(c)],axis=1)\n",
    "    X_test[c+\"_Sentiment\"] = X_test.apply(lambda x:-1 if c not in x['OpinionCategoryList'] else x['OpinionPolarityList'][x['OpinionCategoryList'].index(c)],axis=1)"
   ]
  },
  {
   "cell_type": "code",
   "execution_count": 6,
   "metadata": {},
   "outputs": [],
   "source": [
    "# Hardcode unique categories \n",
    "mlb = MultiLabelBinarizer(classes=unique_categories)\n",
    "#labels with 0 and 1 added in the dataset\n",
    "\n",
    "categories_columns = pd.DataFrame(mlb.fit_transform(X_train.OpinionCategoryList),columns=mlb.classes_, index=X_train.index)\n",
    "test_categories_columns = pd.DataFrame(mlb.fit_transform(X_test.OpinionCategoryList),columns=mlb.classes_, index=X_test.index)\n",
    "X_train = pd.concat([X_train,categories_columns],axis=1)\n",
    "X_test = pd.concat([X_test,test_categories_columns],axis=1)\n"
   ]
  },
  {
   "cell_type": "code",
   "execution_count": 7,
   "metadata": {},
   "outputs": [],
   "source": [
    "X_train, X_val = train_test_split(X_train, test_size=0.25, shuffle=True, random_state=7)"
   ]
  },
  {
   "cell_type": "code",
   "execution_count": 8,
   "metadata": {},
   "outputs": [],
   "source": [
    "def preprocess_dataframe_sentence(dataframe):\n",
    "    df =  dataframe.copy()\n",
    "    df['Preprocessed_Sentence'] = df.Sentence.copy().map(lambda x:x.strip()) #remove spaces from the begining and the end\n",
    "    df['Preprocessed_Sentence'] = df.Preprocessed_Sentence.copy().map(lambda x:x.lower()) #lower case latters\n",
    "    df['Preprocessed_Sentence'] = df.Preprocessed_Sentence.copy().map(lambda sentence: sentence.translate(sentence.maketrans('','', string.punctuation))) #punctuation\n",
    "    df['Preprocessed_Sentence'] = df.Preprocessed_Sentence.copy().map(lambda sentence: sentence.translate(sentence.maketrans('','', '1234567890')))    #numbers\n",
    "    df['Preprocessed_Sentence'] = df.Preprocessed_Sentence.copy().map(lambda sentence: word_tokenize(sentence))\n",
    "    df['Preprocessed_Sentence'] = df.Preprocessed_Sentence.copy().map(lambda sentence:\" \".join([word for word in sentence if word not in stopwords.words('english')]))  # remove stop words\n",
    "    return df"
   ]
  },
  {
   "cell_type": "code",
   "execution_count": 9,
   "metadata": {},
   "outputs": [],
   "source": [
    "class PreproccesingTransformer():\n",
    "    def __init__(self, func):\n",
    "        self.func = func\n",
    "\n",
    "    def transform(self, input_df, **transform_params):\n",
    "        return self.func(input_df)\n",
    "\n",
    "    def fit(self, X, y=None, **fit_params):\n",
    "        return self"
   ]
  },
  {
   "cell_type": "code",
   "execution_count": 10,
   "metadata": {},
   "outputs": [],
   "source": [
    "class MyTfIdfTransformer():\n",
    "    def __init__(self):\n",
    "        self.tfidf_vectorizer = TfidfVectorizer (max_features=3000, min_df=3, max_df=0.8, ngram_range=(1,3), stop_words=stopwords.words('english'))\n",
    "        \n",
    "\n",
    "    def transform(self, column, **transform_params):\n",
    "        result =  self.tfidf_vectorizer.transform(column.tolist()).toarray()\n",
    "        return result\n",
    "\n",
    "    def fit(self, column, y=None, **fit_params):\n",
    "        self.tfidf_vectorizer.fit(column.tolist())\n",
    "        return self"
   ]
  },
  {
   "cell_type": "code",
   "execution_count": 11,
   "metadata": {},
   "outputs": [],
   "source": [
    "class Count_vectorizer_Transformer():   # max fetaures? min max_df?????\n",
    "    def __init__(self):\n",
    "        self.count_vectorizer = CountVectorizer (stop_words=stopwords.words('english'),ngram_range=(1,2))\n",
    "        \n",
    "\n",
    "    def transform(self, column, **transform_params):\n",
    "        result =  self.count_vectorizer.transform(column.tolist()).toarray()\n",
    "        return result\n",
    "\n",
    "    def fit(self, column, y=None, **fit_params):\n",
    "        self.count_vectorizer.fit(column.tolist())\n",
    "        return self"
   ]
  },
  {
   "cell_type": "code",
   "execution_count": 12,
   "metadata": {},
   "outputs": [],
   "source": [
    "class hashing_Transformer():   # max fetaures? min max_df?????\n",
    "    def __init__(self):\n",
    "        self.hashing_vectorizer = HashingVectorizer (stop_words=stopwords.words('english'),ngram_range=(1,2))\n",
    "        \n",
    "\n",
    "    def transform(self, column, **transform_params):\n",
    "        result =  self.hashing_vectorizer.transform(column.tolist()).toarray()\n",
    "        return result\n",
    "\n",
    "    def fit(self, column, y=None, **fit_params):\n",
    "        self.hashing_vectorizer.fit(column.tolist())\n",
    "        return self"
   ]
  },
  {
   "cell_type": "code",
   "execution_count": 13,
   "metadata": {},
   "outputs": [],
   "source": [
    "class MyLdaTransformer():\n",
    "    def __init__(self, n_topics, random_state, n_iter) :\n",
    "        self.count_vectorizer = None\n",
    "        self.n_topics = n_topics\n",
    "        self.lda_model = lda.LDA(n_topics=n_topics, n_iter=n_iter, random_state=random_state, refresh=400)\n",
    "        \n",
    "    def transform(self, column, **transform_params):\n",
    "        \n",
    "        column_tr = self.count_vectorizer.transform(column.tolist())\n",
    "        result = np.nan_to_num(self.lda_model.transform(column_tr),posinf=1.0,neginf=0.0)\n",
    "        if np.max(result)>1:\n",
    "            result = np.clip(result,0,1)\n",
    "        return result\n",
    "\n",
    "    def fit(self, column, y=None, **fit_params):\n",
    "        token_list=[]\n",
    "        for sentence in column.tolist(): \n",
    "            tokens = word_tokenize(sentence)\n",
    "            token_list.extend(tokens)\n",
    "        vocab = tuple(set(token_list))  \n",
    "        self.count_vectorizer = CountVectorizer(vocabulary=vocab)\n",
    "        corpus_tr = self.count_vectorizer.transform(column.tolist())\n",
    "        self.lda_model.fit(corpus_tr)\n",
    "        \n",
    "        return self"
   ]
  },
  {
   "cell_type": "code",
   "execution_count": null,
   "metadata": {},
   "outputs": [],
   "source": []
  },
  {
   "cell_type": "code",
   "execution_count": null,
   "metadata": {},
   "outputs": [],
   "source": []
  },
  {
   "cell_type": "code",
   "execution_count": 14,
   "metadata": {},
   "outputs": [],
   "source": [
    "ex = Experiment('jupyter_ex', interactive=True)\n",
    "#ex.observers.append(MongoObserver(url=\"localhost:27017\",db_name=\"sacred_experiments\"))"
   ]
  },
  {
   "cell_type": "code",
   "execution_count": 15,
   "metadata": {},
   "outputs": [],
   "source": [
    "#ASPECT CONFIGURATION\n",
    "\n",
    "\n",
    "@ex.config\n",
    "def aspect_cfg():\n",
    "    n_topics=6\n",
    "    column_transformers=[\"tfidf_pipeline\"]\n",
    "    random_state = 10\n",
    "    n_splits=16\n",
    "    X_train= X_train\n",
    "    X_val = X_val\n",
    "    X_test = X_test\n",
    "    n_estimators=200\n",
    "    selected_aspect_classifier = \"linearsvc\"\n",
    "    selected_polarity_classifier = \"random_forest\"\n",
    "    unique_categories= ['RESTAURANT', 'LOCATION', 'AMBIENCE', 'SERVICE', 'FOOD' ,'DRINKS']\n",
    "    \n",
    "    \n",
    "@ex.main\n",
    "def run(X_train, X_val, X_test,n_topics,column_transformers,random_state, n_splits, n_estimators, selected_aspect_classifier, selected_polarity_classifier, unique_categories):\n",
    "    pipelines={\"hashing_pipeline\": (Pipeline([(\"hashing_vectorizer\", hashing_Transformer())]),\"Preprocessed_Sentence\"),\n",
    "        \"vectorizer_pipepilne\": (Pipeline([(\"vectorizer\",Count_vectorizer_Transformer())]), \"Preprocessed_Sentence\"),\n",
    "        \"tfidf_pipeline\":(Pipeline([('tfidf', MyTfIdfTransformer())]),'Preprocessed_Sentence'), \n",
    "                \"lda_pipeline\": (Pipeline([('lda', MyLdaTransformer(n_topics=n_topics,random_state=random_state,n_iter=20000))]),'Preprocessed_Sentence')\n",
    "                      }\n",
    "    \n",
    "\n",
    "    aspect_classifiers = {\"linearsvc\":OneVsRestClassifier(LinearSVC(random_state=random_state)),\n",
    "                         \"mlp\": MLPClassifier(random_state=random_state, max_iter=300, hidden_layer_sizes=(100,50,100), solver=\"adam\", verbose=True,activation=\"tanh\"),\n",
    "                         \"randomforest\": RandomForestClassifier(n_estimators=200)\n",
    "                         }\n",
    "    \n",
    "    ct= ColumnTransformer([(c,pipelines[c][0],pipelines[c][1]) for c in column_transformers])\n",
    "    \n",
    "    aspect_classifier = aspect_classifiers[selected_aspect_classifier]\n",
    "    \n",
    "    aspect_pipeline = Pipeline(steps=[('Preprocessing', PreproccesingTransformer(preprocess_dataframe_sentence)),\n",
    "                               (\"ColumnTransformer\", ct),\n",
    "                                (\"Classifier\", aspect_classifier)\n",
    "                               ])\n",
    "    \n",
    "    \n",
    "    \n",
    "    y_train = np.asarray(mlb.fit_transform(X_train.OpinionCategoryList.tolist()))\n",
    "    y_val = np.asarray(mlb.fit_transform(X_val.OpinionCategoryList.tolist()))\n",
    "    y_test = np.asarray(mlb.fit_transform(X_test.OpinionCategoryList.tolist()))\n",
    "\n",
    "    aspect_pipeline.fit(X_train,y_train)\n",
    "    \n",
    "    val_y_pred = aspect_pipeline.predict(X_val)\n",
    "    val_acc = accuracy_score(y_val,val_y_pred)\n",
    "    val_f1_micro = f1_score(y_val,val_y_pred, average=\"micro\")\n",
    "\n",
    "    test_y_pred = aspect_pipeline.predict(X_test)\n",
    "    test_acc = accuracy_score(y_test,test_y_pred)\n",
    "    test_f1_micro = f1_score(y_test,test_y_pred, average=\"micro\")\n",
    "\n",
    "\n",
    "    return val_acc, val_f1_micro, test_acc, test_f1_micro\n",
    "            \n",
    "\n"
   ]
  },
  {
   "cell_type": "code",
   "execution_count": 16,
   "metadata": {},
   "outputs": [
    {
     "name": "stderr",
     "output_type": "stream",
     "text": [
      "WARNING - jupyter_ex - No observers have been added to this run\n",
      "INFO - jupyter_ex - Running command 'run'\n",
      "INFO - jupyter_ex - Started\n",
      "INFO - jupyter_ex - Result: (0.6206088992974239, 0.7436440677966102, 0.5604770017035775, 0.7154088050314467)\n",
      "INFO - jupyter_ex - Completed after 0:00:03\n"
     ]
    }
   ],
   "source": [
    "r=ex.run()"
   ]
  },
  {
   "cell_type": "code",
   "execution_count": 24,
   "metadata": {},
   "outputs": [],
   "source": [
    "import tensorflow as tf\n",
    "from tensorflow.keras.preprocessing.text import Tokenizer"
   ]
  },
  {
   "cell_type": "code",
   "execution_count": null,
   "metadata": {},
   "outputs": [],
   "source": [
    "glove_path = \"glove.840B.300d.txt\"\n",
    "rest_emb_path = \"domain_embedding/restaurant_emb.vec\"\n",
    "\n",
    "embeddings_dictionary = dict()\n",
    "\n",
    "with open(glove_path, encoding=\"utf8\") as glove_file:\n",
    "\n",
    "    i=0\n",
    "    for line in glove_file:\n",
    "        line = line.split(\" \")\n",
    "        word = line[0]\n",
    "        try:\n",
    "            vector = np.asarray(line[1:], dtype='float32')\n",
    "            embeddings_dictionary[word] = vector\n",
    "        except:\n",
    "            print(line)\n",
    "\n",
    "restaurant_embeddings_dictionary = dict()\n",
    "\n",
    "with open(rest_emb_path, encoding=\"utf8\") as rest_emb:\n",
    "\n",
    "    i=0\n",
    "    for line in rest_emb:\n",
    "        line = line.strip().split(\" \")\n",
    "        word = line[0]\n",
    "        try:\n",
    "            vector = np.asarray(line[1:], dtype='float32')\n",
    "            restaurant_embeddings_dictionary[word] = vector\n",
    "        except:\n",
    "            print(line)"
   ]
  },
  {
   "cell_type": "code",
   "execution_count": 25,
   "metadata": {},
   "outputs": [],
   "source": [
    "tokenizer = Tokenizer(oov_token='<unk>')\n",
    "train_preprocessed = preprocess_dataframe_sentence(X_train)\n",
    "val_preprocessed = preprocess_dataframe_sentence(X_val)\n",
    "test_preprocessed = preprocess_dataframe_sentence(X_test)"
   ]
  },
  {
   "cell_type": "code",
   "execution_count": 27,
   "metadata": {},
   "outputs": [],
   "source": [
    "tokenizer.fit_on_texts(train_preprocessed.Preprocessed_Sentence)\n",
    "vocab_size = len(tokenizer.word_index) + 1\n",
    "maxlen = max(train_preprocessed.Preprocessed_Sentence.map(lambda x: len(word_tokenize(x))))"
   ]
  },
  {
   "cell_type": "code",
   "execution_count": 29,
   "metadata": {},
   "outputs": [],
   "source": [
    "x_train = tokenizer.texts_to_sequences(train_preprocessed.Preprocessed_Sentence)\n",
    "x_val = tokenizer.texts_to_sequences(val_preprocessed.Preprocessed_Sentence)\n",
    "x_test = tokenizer.texts_to_sequences(test_preprocessed.Preprocessed_Sentence)\n",
    "\n",
    "\n",
    "x_train = tf.keras.preprocessing.sequence.pad_sequences(x_train, padding='post', maxlen=maxlen)\n",
    "x_val = tf.keras.preprocessing.sequence.pad_sequences(x_val, padding='post', maxlen=maxlen)\n",
    "x_test = tf.keras.preprocessing.sequence.pad_sequences(x_test, padding='post', maxlen=maxlen)\n",
    "\n",
    "y_train = np.asarray(mlb.fit_transform(train_preprocessed.OpinionCategoryList.tolist()))\n",
    "y_val = np.asarray(mlb.fit_transform(val_preprocessed.OpinionCategoryList.tolist()))\n",
    "y_test = np.asarray(mlb.fit_transform(test_preprocessed.OpinionCategoryList.tolist()))"
   ]
  },
  {
   "cell_type": "code",
   "execution_count": 32,
   "metadata": {},
   "outputs": [],
   "source": [
    "embedding_matrix = np.zeros((vocab_size, 300))\n",
    "for word, index in tokenizer.word_index.items():\n",
    "    embedding_vector = embeddings_dictionary.get(word)\n",
    "    if embedding_vector is not None:\n",
    "        embedding_matrix[index] = embedding_vector"
   ]
  },
  {
   "cell_type": "code",
   "execution_count": null,
   "metadata": {},
   "outputs": [],
   "source": [
    "extended_embedding_matrix = np.zeros((vocab_size, 400))\n",
    "for word, index in tokenizer.word_index.items():\n",
    "    embedding_vector = embeddings_dictionary.get(word)\n",
    "    domain_embedding_vector = restaurant_embeddings_dictionary.get(word)\n",
    "    if domain_embedding_vector is not None:\n",
    "        extended_embedding_matrix[index][300:] = domain_embedding_vector\n",
    "    if embedding_vector is not None:\n",
    "        extended_embedding_matrix[index][:300] = embedding_vector"
   ]
  },
  {
   "cell_type": "code",
   "execution_count": 34,
   "metadata": {},
   "outputs": [],
   "source": [
    "emb_inputs = tf.keras.layers.Input(shape=(maxlen,))\n",
    "embedding_layer = tf.keras.layers.Embedding(vocab_size,300, \n",
    "                                           embeddings_initializer=tf.constant_initializer(embedding_matrix),\n",
    "                                            trainable=False)(emb_inputs)\n",
    "\n",
    "bdlstm_1 = tf.keras.layers.Bidirectional(tf.keras.layers.LSTM(128, return_sequences=True))(embedding_layer)\n",
    "dropout_1 = tf.keras.layers.SpatialDropout1D(0.3)(bdlstm_1)\n",
    "bdlstm_2 = tf.keras.layers.Bidirectional(tf.keras.layers.LSTM(64))(dropout_1)\n",
    "dropout_2 = tf.keras.layers.Dropout(0.25)(bdlstm_2)\n",
    "dense_layer_1 = tf.keras.layers.Dense(128, activation=\"relu\")(dropout_2)\n",
    "dense_layer_2 = tf.keras.layers.Dense(len(unique_categories), activation=\"sigmoid\")(dense_layer_1)"
   ]
  },
  {
   "cell_type": "code",
   "execution_count": 35,
   "metadata": {},
   "outputs": [
    {
     "name": "stdout",
     "output_type": "stream",
     "text": [
      "Model: \"model\"\n",
      "_________________________________________________________________\n",
      "Layer (type)                 Output Shape              Param #   \n",
      "=================================================================\n",
      "input_1 (InputLayer)         [(None, 35)]              0         \n",
      "_________________________________________________________________\n",
      "embedding (Embedding)        (None, 35, 300)           762900    \n",
      "_________________________________________________________________\n",
      "bidirectional (Bidirectional (None, 35, 256)           439296    \n",
      "_________________________________________________________________\n",
      "spatial_dropout1d (SpatialDr (None, 35, 256)           0         \n",
      "_________________________________________________________________\n",
      "bidirectional_1 (Bidirection (None, 128)               164352    \n",
      "_________________________________________________________________\n",
      "dropout (Dropout)            (None, 128)               0         \n",
      "_________________________________________________________________\n",
      "dense (Dense)                (None, 128)               16512     \n",
      "_________________________________________________________________\n",
      "dense_1 (Dense)              (None, 6)                 774       \n",
      "=================================================================\n",
      "Total params: 1,383,834\n",
      "Trainable params: 620,934\n",
      "Non-trainable params: 762,900\n",
      "_________________________________________________________________\n",
      "None\n"
     ]
    }
   ],
   "source": [
    "model = tf.keras.Model(inputs=emb_inputs, outputs=dense_layer_2)\n",
    "model.compile(loss='binary_crossentropy', optimizer='adam', metrics=['acc'])\n",
    "print(model.summary())"
   ]
  },
  {
   "cell_type": "code",
   "execution_count": 45,
   "metadata": {},
   "outputs": [],
   "source": [
    "history = model.fit(x_train,  y_train, validation_data=(x_val, y_val), batch_size=32, epochs=3, verbose=1)"
   ]
  },
  {
   "cell_type": "code",
   "execution_count": 47,
   "metadata": {},
   "outputs": [],
   "source": [
    "import matplotlib.pyplot as plt\n",
    "\n",
    "plt.plot(history.history['acc'],label=\"Train acc\")\n",
    "plt.plot(history.history['val_acc'],label=\"Val acc\")\n",
    "\n",
    "plt.title('model accuracy')\n",
    "plt.ylabel('accuracy')\n",
    "plt.xlabel('epoch')\n",
    "plt.legend(loc='upper left')\n",
    "plt.show()\n",
    "\n",
    "plt.plot(history.history['loss'],label=\"Train loss\")\n",
    "plt.plot(history.history['val_loss'],label=\"Val loss\")\n",
    "\n",
    "plt.title('model loss')\n",
    "plt.ylabel('loss')\n",
    "plt.xlabel('epoch')\n",
    "plt.legend(loc='upper left')\n",
    "plt.show()"
   ]
  },
  {
   "cell_type": "code",
   "execution_count": 48,
   "metadata": {},
   "outputs": [],
   "source": [
    "y_hat = (model.predict(x_test) > 0.5)*1\n",
    "print(accuracy_score(y_test,y_hat))\n",
    "print(f1_score(y_test,y_hat,average='micro'))"
   ]
  },
  {
   "cell_type": "code",
   "execution_count": null,
   "metadata": {},
   "outputs": [],
   "source": []
  }
 ],
 "metadata": {
  "kernelspec": {
   "display_name": "Python 3",
   "language": "python",
   "name": "python3"
  },
  "language_info": {
   "codemirror_mode": {
    "name": "ipython",
    "version": 3
   },
   "file_extension": ".py",
   "mimetype": "text/x-python",
   "name": "python",
   "nbconvert_exporter": "python",
   "pygments_lexer": "ipython3",
   "version": "3.7.9"
  }
 },
 "nbformat": 4,
 "nbformat_minor": 4
}
